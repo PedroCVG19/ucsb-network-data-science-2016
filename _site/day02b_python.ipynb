{
 "cells": [
  {
   "cell_type": "markdown",
   "metadata": {},
   "source": [
    "<!-- https://github.com/kmahelona/ipython_notebook_goodies -->\n",
    "<h1 id=\"tocheading\">Table of Contents</h1>\n",
    "<div id=\"toc\"></div>"
   ]
  },
  {
   "cell_type": "markdown",
   "metadata": {
    "nbpresent": {
     "id": "647cb299-ff50-40e0-b04f-368b8748970f"
    },
    "slideshow": {
     "slide_type": "slide"
    }
   },
   "source": [
    "## What is Data Science?\n",
    "\n",
    "\n",
    "Consensus from [Python Data Science Handbook](http://shop.oreilly.com/product/0636920034919.do) by \n",
    "by Jake VanderPlas on [Drew Conway's Venn diagram of Data Science](http://drewconway.com/zia/2013/3/26/the-data-science-venn-diagram):\n",
    "\n",
    "![](http://static1.squarespace.com/static/5150aec6e4b0e340ec52710a/t/51525c33e4b0b3e0d10f77ab/1364352052403/Data_Science_VD.png?format=200w)"
   ]
  },
  {
   "cell_type": "markdown",
   "metadata": {
    "nbpresent": {
     "id": "8e67b722-27dd-490a-88ca-c12e20d2cbb9"
    },
    "slideshow": {
     "slide_type": "notes"
    }
   },
   "source": [
    "Interdisciplinary aspects:\n",
    "\n",
    "1. **Hacker** reads and cleans data, develops workflows and (web-based) visualizations\n",
    "1. **Statistician** models and summarizes data\n",
    "1. **Expert** advances knowledge for a given domain"
   ]
  },
  {
   "cell_type": "markdown",
   "metadata": {
    "nbpresent": {
     "id": "cf9aadee-4d1a-4504-917b-c460e5b45e66"
    },
    "slideshow": {
     "slide_type": "slide"
    }
   },
   "source": [
    "## Data Science Workflow\n",
    "\n",
    "I also like Hadley Wickham's [R for Data Science](http://r4ds.had.co.nz/) iterative recipe for exploratory data analysis:\n",
    "\n",
    "![](http://r4ds.had.co.nz/diagrams/data-science-explore.png)"
   ]
  },
  {
   "cell_type": "markdown",
   "metadata": {
    "slideshow": {
     "slide_type": "notes"
    }
   },
   "source": [
    "- **Import**: read in simple text files, eg comma-seperated values (*.csv) [`csv`, `numpy`, `pandas`]\n",
    "- **Tidy**: normalize data into easily queryable formats (eg \"wide\" to \"long\") [`pandas`]\n",
    "- **Transform**: manipulate data based on subsetting by rows or columns, sorting and joining [`pandas`]\n",
    "- **Model**: develop statistical or algorithmic model to test scientific hypothesis [`scikit-learn`, `networkX`]\n",
    "- **Visualise**: static [`matplotlib`] or interactive [`bokeh`] plots\n",
    "- **Communicate**: online [Github, Jupyter Notebooks, markdown]"
   ]
  },
  {
   "cell_type": "markdown",
   "metadata": {},
   "source": [
    "## Git & Github\n",
    "\n",
    "- **Git** is a version control system that lets you track changes to files over time. These files can be any kind of file (eg doc, pdf, xls), but free text differences are most easily visible (eg txt, csv, md). You can rollback changes made by you, or others. This facilitates a playground for collaboration, without fear of experimentation (you can always rollback changes).\n",
    "\n",
    "- **Github** is a website for storing your git versioned files remotely. It has many nice features to be able visualize differences between [images](https://help.github.com/articles/rendering-and-diffing-images/), [rendering](https://help.github.com/articles/mapping-geojson-files-on-github/) & [diffing](https://github.com/blog/1772-diffable-more-customizable-maps) map data files, [render text data files](https://help.github.com/articles/rendering-csv-and-tsv-data/), and [track changes in text](https://help.github.com/articles/rendering-differences-in-prose-documents/)."
   ]
  },
  {
   "cell_type": "markdown",
   "metadata": {},
   "source": [
    "## Setup Github & Git\n",
    "\n",
    "1. Create **Github** account at <http://github.com>, if you don't already have one. For username, I recommend all lower-case letters, short as you can. I recommned using your *ucsb.edu email, since you can request free private repositories via [GitHub Education](https://education.github.com/) discount. You're encouraged to upload a picture since it will get included in the students listing as part of this course repository.\n",
    "\n",
    "1. Configure **git** with global commands. Open up the Bash version of Git and type the following:\n",
    "\n",
    "        # display your version of git\n",
    "        git --version\n",
    "        \n",
    "        # replace USER with your Github user account\n",
    "        git config –-global user.name USER\n",
    "        \n",
    "        # replace USER@UMAIL.UCSB.EDU with the email you used to register with Github\n",
    "        git config –-global user.email USER@UMAIL.UCSB.EDU\n",
    "        \n",
    "        # list your config to confirm user.* variables set\n",
    "        git config --list\n",
    "\n",
    "## Github Workflows\n",
    "\n",
    "The two most common workflow models for working Github repositories are based on your permissions:\n",
    "\n",
    "1. **writable**: Push & Pull (simplest)\n",
    "\n",
    "1. **read only**: Fork & Pull Request (extra steps)\n",
    "\n",
    "### Push & Pull\n",
    "\n",
    "repo location | `USER` permission | initialize <i class=\"fa fa-arrow-down\"></i> | edit <i class=\"fa fa-arrow-up\"></i> | update <i class=\"fa fa-arrow-down\"></i>\n",
    "-----------|:-----------:|:-----------:|:-----------:|:-----------:\n",
    "<i class=\"fa fa-cloud\"></i> `github.com/OWNER/REPO` | read + write | [**create**](https://help.github.com/articles/create-a-repo/) <span class=\"octicon octicon-plus\"></span> |   |\n",
    "<i class=\"fa fa-desktop\"></i> `~/github/REPO`      | read + write | [**clone**](https://help.github.com/articles/fetching-a-remote) <span class=\"octicon octicon-desktop-download\"></span> | [**commit**](http://git-scm.com/docs/git-commit) <span class=\"octicon octicon-git-commit\"></span>,  [**push**](https://help.github.com/articles/pushing-to-a-remote/) <span class=\"octicon octicon-cloud-upload\"></span> | [**pull**](https://help.github.com/articles/fetching-a-remote/#pull) <span class=\"octicon octicon-cloud-download\"></span>\n",
    "\n",
    "Note that OWNER could be either an individual USER or group ORGANIZATION, which has member USERs.\n",
    "\n",
    "### Fork & Pull Request\n",
    "\n",
    "repo location | `USER` permission | initialize <i class=\"fa fa-arrow-down\"></i> | edit <i class=\"fa fa-arrow-up\"></i> | update <i class=\"fa fa-arrow-down\"></i>\n",
    "-----------|:-----------:|:-----------:|:-----------:|:-----------:\n",
    "<i class=\"fa fa-cloud\"></i> `github.com/OWNER/REPO` | read only |  | [**merge**](https://help.github.com/articles/merging-a-pull-request) <span class=\"octicon octicon-git-merge\"></span> [BB]  | \n",
    "<i class=\"fa fa-cloud\"></i> `github.com/OWNER/REPO`    | read + write | [**fork**](https://help.github.com/articles/fork-a-repo) <span class=\"octicon octicon-repo-forked\"></span> | [**pull request**](https://help.github.com/articles/creating-a-pull-request/) <span class=\"octicon octicon-git-pull-request\"></span> | [**pull request**](https://help.github.com/articles/creating-a-pull-request/) <span class=\"octicon octicon-git-pull-request\"></span>, [**merge**](https://help.github.com/articles/merging-a-pull-request) <span class=\"octicon octicon-git-merge\"></span>\n",
    "<i class=\"fa fa-desktop\"></i> `~/github/REPO` | read + write | [**clone**](https://help.github.com/articles/fetching-a-remote) <span class=\"octicon octicon-desktop-download\"></span> | [**commit**](http://git-scm.com/docs/git-commit) <span class=\"octicon octicon-git-commit\"></span>,  [**push**](https://help.github.com/articles/pushing-to-a-remote/) <span class=\"octicon octicon-cloud-upload\"></span> | [**pull**](https://help.github.com/articles/fetching-a-remote/#pull) <span class=\"octicon octicon-cloud-download\"></span>\n",
    "\n",
    "## Fork & Pull Request Your People Entry\n",
    "\n",
    "As an exercise for you to try out this fork & pull request model, you will add yourself to the [**<i class=\"fa fa-users\"></i> people**](http://remi-daigle.github.io/2016-04-15-UCSB/people/) directory for this workshop which looks like this:\n",
    "<!--`r img(src='img/2016-04-15-UCSB_people.png', width=200)`-->\n",
    "\n",
    "  ![](img/2016-04-15-UCSB_people.png)\n",
    "\n",
    "Because you cannot directly write to this course repository,  [fork](https://help.github.com/articles/fork-a-repo/) it into your own USER space. You can further [clone](http://remi-daigle.github.io/2016-04-15-UCSB/git/#25_clone_repository)o it onto your local machine, or simply create a New file through the web browser, similar to how you edited the README.md. Introduce yourself by adding a tiny  file per your **Github** USERNAME `USERNAME.json` under the `_data` directory. Here's an example for my Github username `bbest`, so in a file named `bbest.json`:\n",
    "\n",
    "```javascript\n",
    "{\n",
    "\t\"info\": \"Lecturer at Bren School\"\n",
    "}\n",
    "```\n",
    "\n",
    "Using the format above, replace the value for `info` to one of your choosing, ie replace `Lecturer at Bren School` with something of your own. If you cloned to your machine, be sure to commit and push the changes (or in Github Desktop App \"Commit and Sync\"), and [**create a pull request**](https://help.github.com/articles/creating-a-pull-request/) to the original repository `remi-daigle/2016-04-15-UCSB`.\n",
    "\n",
    "The details of how this works (using [Jekyll data files](https://jekyllrb.com/docs/datafiles/)) is beyond the scope of this workshop, but provides a simple satisfying example for applying the [Fork & Pull Request](http://remi-daigle.github.io/2016-04-15-UCSB/git/#fork-pull-request) model to a repository for which you do not have write permissions and want to contribute towards.\n",
    "\n",
    "## Create Repository `my-project`\n",
    "\n",
    "Now you will create a Github repository for a project.\n",
    "\n",
    "1. [Create a repository](https://help.github.com/articles/create-a-repo/) called `my-project`.\n",
    "\n",
    "    `r img(src='img/github_repo-create.png', width=200)`\n",
    "    \n",
    "    Please be sure to tick the box to **Initialize this repository with a README**. Otherwise defaults are fine.\n",
    "    \n",
    "    `r img(src='img/github_create-my-project.png', width=600)`\n",
    "\n",
    "1. [Create a branch](https://help.github.com/articles/creating-and-deleting-branches-within-your-repository/) called `gh-pages`.\n",
    "\n",
    "    `r img(src='img/github_create-branch_gh-pages.png', width=200)`\n",
    "    \n",
    "    Per [pages.github.com](https://pages.github.com), since this will be a project site only web files in the `gh-pages` branch will show up at `http://USER.github.io/REPO`. For a user (or organization) site, the REPO must be named `USER.github.io` (or `ORG.github.io`) and then the default `master` branch will contain the web files for the website `http://USER.github.io` (or `http://ORG.github.io`). See also [User, Organization, and Project Pages - Github Help](https://help.github.com/articles/user-organization-and-project-pages/).\n",
    "    \n",
    "1. [Set the default branch](https://help.github.com/articles/setting-the-default-branch/) to `gh-pages`, NOT the default `master`.\n",
    "\n",
    "    `r img(src='img/github_default-branch_gh-pages.png', width=600)`\n",
    "    \n",
    "1. [Delete the branch](https://help.github.com/articles/viewing-branches-in-your-repository/#deleting-branches) `master`, which will not be used.\n",
    "\n",
    "## Edit `README.md` in Markdown\n",
    "\n",
    "[Commit your first change](https://help.github.com/articles/create-a-repo/#commit-your-first-change) by editing the `README.md` which is in **markdown**, simple syntax for conversion to HTML. Now update the contents of the `README.md` with the following, having a link and a numbered list:\n",
    "  \n",
    "```\n",
    "# my-project\n",
    "\n",
    "Playing with [Software Carpentry at UCSB](http://remi-daigle.github.io/2016-04-15-UCSB).\n",
    "\n",
    "## Introduction\n",
    "\n",
    "This repository demonstrates **software** and _formats_:\n",
    "\n",
    "1. **Git**\n",
    "1. **Github**\n",
    "1. _Markdown_\n",
    "1. _Rmarkdown_\n",
    "\n",
    "## Conclusion\n",
    "\n",
    "![](https://octodex.github.com/images/labtocat.png)\n",
    "```\n",
    "    \n",
    "Now click on the <span class=\"octicon octicon-eye\"></span> Preview changes to see the markdown rendered as HTML:\n",
    "    \n",
    "`r img(src='img/github_preview_README-md.png', width=500)`\n",
    "    \n",
    "Notice the syntax for:\n",
    "\n",
    "- **numbered list** gets automatically sequenced: `1.`, `1.`\n",
    "- **headers** get rendered at multiple levels: `#`, `##`\n",
    "- **link**: `[](http://...)`\n",
    "- **image**: `![](http://...)`\n",
    "- _italics_: `_word_` \n",
    "- **bold**: `**word**`\n",
    "\n",
    "See [Mastering Markdown · GitHub Guides](https://guides.github.com/features/mastering-markdown/) and add some more personalized content to the README of your own, like a bulleted list or blockquote.\n",
    "\n",
    "## Create `index.html`\n",
    "\n",
    "By default `index.html` is served up. Go ahead and create a new file named `index.html` with the following [basic HTML](http://www.w3schools.com/html/html_basic.asp):\n",
    "\n",
    "```html\n",
    "<!DOCTYPE html>\n",
    "<html>\n",
    "<body>\n",
    "\n",
    "<h1>My First Heading</h1>\n",
    "\n",
    "<p>My first paragraph.</p>\n",
    "\n",
    "</body>\n",
    "</html>\n",
    "```\n",
    "\n",
    "## Clone Repository\n",
    "\n",
    "[Clone the repository](https://help.github.com/articles/fetching-a-remote) onto your local machine. The easiest way to do this is simply clicking the button <span class=\"octicon octicon-desktop-download\"></span> to open up the Github Desktop App.\n",
    "\n",
    "`r img(src='img/github_clone-desktop.png', width=300)`\n",
    "    \n",
    "You'll be prompted to clone this repository into a folder on your local machine. I recommend creating a folder `github` under your user folder.\n",
    "  \n",
    "See [GitHub Desktop User Guides](https://help.github.com/desktop/guides/) for more. You could also do this from the Bash Shell for Git with the command `git clone https://github.com/USER/REPO.git`, replacing USER with your Github username and REPO with my_project. Or you can use the Github Desktop App menu File -> Clone Repository...\n",
    "\n",
    "# Rmarkdown from RStudio\n",
    "\n",
    "## Create RStudio Project\n",
    "\n",
    "Open RStudio and under the menu File -> New Project... -> Existing Directory. Browse to the folder where you previously cloned `my-project`.\n",
    "\n",
    "`r img(src='img/rstudio_file-new-project-existing-dir.png', width=300)`\n",
    "\n",
    "You'll notice a couple new files created in the Files pane:\n",
    "\n",
    "- `.gitignore` stores all the files for git to ignore committing\n",
    "- `my-project.Rproj` stores the settings for this project\n",
    "\n",
    "Open the Github Desktop App, enter a message like \"new RStudio project\" and click on \"Commit and Sync gh-pages\". This will update <https://github.com/USER/my-project>.\n",
    "\n",
    "`r img(src='img/github-app_new-rstudio-proj-commit.png', width=300)`\n",
    "\n",
    "## Create `index.Rmd` in Rmarkdown\n",
    "\n",
    "Back in RStudio, let's create a new Rmarkdown file, which allows us to weave markdown text with chunks of R code to be evaluated and output content like tables and plots.\n",
    "\n",
    "File -> New File -> Rmarkdown... -> Document of output format HTML, OK.\n",
    "\n",
    "`r img(src='img/rstudio_new-rmd-doc-html.png', width=300)`\n",
    "\n",
    "You can give it a Title of \"My Project\". After you click OK, most importantly File -> Save as `index` (which will get named with the filename extension `index.Rmd`).\n",
    "\n",
    "Some initial text is already provided for you. Let's go ahead and \"Knit HTML\".\n",
    "\n",
    "Notice how the markdown is rendered similar to as before + **R code chunks** are surrounded by 3 backticks and `{r LABEL}`. These are evaluated and return the output text in the case of `summary(cars)` and the output plot in the case of `plot(pressure)`.\n",
    "\n",
    "Notice how the code `plot(pressure)` is not shown in the HTML output because of the R code chunk option `echo=FALSE`.\n",
    "\n",
    "Before we continue exploring Rmarkdown, return to the Github Desktop App, enter a message like \"added index\" and click on \"Commit and Sync gh-pages\". This will update <https://github.com/USER/my-project>, and now you can also see your project website with a default `index.html` viewable at <http://USER.github.io/my-project>\n",
    "\n",
    "For more on Rmarkdown:\n",
    "\n",
    "- [rmarkdown-cheatsheet.pdf](../cheatsheets/rmarkdown-cheatsheet.pdf)\n",
    "- <http://rmarkdown.rstudio.com>\n",
    "- [knitr in a knutshell - Karl Broman](http://kbroman.org/knitr_knutshell/)\n",
    "\n",
    "## Merge Conflicts\n",
    "\n",
    "[merge conflicts](http://r-pkgs.had.co.nz/git.html#git-pull)\n"
   ]
  },
  {
   "cell_type": "markdown",
   "metadata": {
    "nbpresent": {
     "id": "bb255ad1-bc89-408e-a6fb-ff64fc30f74f"
    }
   },
   "source": [
    "## Launch Jupyter Notebook\n",
    "\n",
    "```bash\n",
    "# change directory to where you git cloned the course repo\n",
    "cd ~/github/ucsb-network-data-science-2016\n",
    "\n",
    "# launch jupyter notebook\n",
    "jupyter notebook\n",
    "```\n",
    "\n",
    "Create a new notebook. Insert Markdown above Code chunk."
   ]
  },
  {
   "cell_type": "raw",
   "metadata": {
    "slideshow": {
     "slide_type": "-"
    }
   },
   "source": [
    "1 + 1"
   ]
  },
  {
   "cell_type": "code",
   "execution_count": 17,
   "metadata": {
    "collapsed": false,
    "scrolled": true
   },
   "outputs": [
    {
     "data": {
      "application/javascript": [
       "$.getScript('https://kmahelona.github.io/ipython_notebook_goodies/ipython_notebook_toc.js')"
      ],
      "text/plain": [
       "<IPython.core.display.Javascript object>"
      ]
     },
     "metadata": {},
     "output_type": "display_data"
    }
   ],
   "source": [
    "%%javascript\n",
    "$.getScript('https://kmahelona.github.io/ipython_notebook_goodies/ipython_notebook_toc.js')"
   ]
  },
  {
   "cell_type": "code",
   "execution_count": null,
   "metadata": {
    "collapsed": true
   },
   "outputs": [],
   "source": []
  }
 ],
 "metadata": {
  "anaconda-cloud": {},
  "kernelspec": {
   "display_name": "Python [Root]",
   "language": "python",
   "name": "Python [Root]"
  },
  "language_info": {
   "codemirror_mode": {
    "name": "ipython",
    "version": 3
   },
   "file_extension": ".py",
   "mimetype": "text/x-python",
   "name": "python",
   "nbconvert_exporter": "python",
   "pygments_lexer": "ipython3",
   "version": "3.5.2"
  },
  "nbpresent": {
   "slides": {
    "3c38957e-4130-4244-aa6d-95122917f751": {
     "id": "3c38957e-4130-4244-aa6d-95122917f751",
     "prev": "ba2ce635-351a-4bbd-8aed-46afd6c2d85e",
     "regions": {
      "ef50a427-e0a9-4bb7-ada0-18955d3c9a7b": {
       "attrs": {
        "height": 0.8,
        "width": 0.8,
        "x": 0.1,
        "y": 0.1
       },
       "content": {
        "cell": "bb255ad1-bc89-408e-a6fb-ff64fc30f74f",
        "part": "whole"
       },
       "id": "ef50a427-e0a9-4bb7-ada0-18955d3c9a7b"
      }
     }
    },
    "60d501ea-74eb-474d-890a-75c5071318dc": {
     "id": "60d501ea-74eb-474d-890a-75c5071318dc",
     "prev": "3c38957e-4130-4244-aa6d-95122917f751",
     "regions": {
      "d8fd497d-eecb-46a6-8e1f-e69312bf6197": {
       "attrs": {
        "height": 0.8,
        "width": 0.8,
        "x": 0.1,
        "y": 0.1
       },
       "content": {
        "cell": "a603c30f-a759-44eb-8648-4acb6c3c5734",
        "part": "whole"
       },
       "id": "d8fd497d-eecb-46a6-8e1f-e69312bf6197"
      }
     }
    },
    "ba2ce635-351a-4bbd-8aed-46afd6c2d85e": {
     "id": "ba2ce635-351a-4bbd-8aed-46afd6c2d85e",
     "prev": "f34bd4ca-6364-4a79-ab2d-5486bdfc3d38",
     "regions": {
      "4bcfabbc-2d8d-4750-bbe9-b0ab5dc512a9": {
       "attrs": {
        "height": 0.8,
        "width": 0.8,
        "x": 0.1,
        "y": 0.1
       },
       "content": {
        "cell": "cf9aadee-4d1a-4504-917b-c460e5b45e66",
        "part": "whole"
       },
       "id": "4bcfabbc-2d8d-4750-bbe9-b0ab5dc512a9"
      }
     }
    },
    "f34bd4ca-6364-4a79-ab2d-5486bdfc3d38": {
     "id": "f34bd4ca-6364-4a79-ab2d-5486bdfc3d38",
     "layout": "grid",
     "prev": null,
     "regions": {
      "e3b23d6a-93ec-4eef-b5ab-75c67d1bd93c": {
       "attrs": {
        "height": 0.8333333333333334,
        "pad": 0.01,
        "width": 0.8333333333333334,
        "x": 0.08333333333333333,
        "y": 0.08333333333333333
       },
       "content": {
        "cell": "647cb299-ff50-40e0-b04f-368b8748970f",
        "part": "whole"
       },
       "id": "e3b23d6a-93ec-4eef-b5ab-75c67d1bd93c"
      }
     }
    }
   },
   "themes": {
    "default": "2db1f9d0-3eea-46cf-b72f-4f27bef9653d",
    "theme": {
     "2db1f9d0-3eea-46cf-b72f-4f27bef9653d": {
      "id": "2db1f9d0-3eea-46cf-b72f-4f27bef9653d",
      "palette": {
       "19cc588f-0593-49c9-9f4b-e4d7cc113b1c": {
        "id": "19cc588f-0593-49c9-9f4b-e4d7cc113b1c",
        "rgb": [
         252,
         252,
         252
        ]
       },
       "31af15d2-7e15-44c5-ab5e-e04b16a89eff": {
        "id": "31af15d2-7e15-44c5-ab5e-e04b16a89eff",
        "rgb": [
         68,
         68,
         68
        ]
       },
       "50f92c45-a630-455b-aec3-788680ec7410": {
        "id": "50f92c45-a630-455b-aec3-788680ec7410",
        "rgb": [
         155,
         177,
         192
        ]
       },
       "c5cc3653-2ee1-402a-aba2-7caae1da4f6c": {
        "id": "c5cc3653-2ee1-402a-aba2-7caae1da4f6c",
        "rgb": [
         43,
         126,
         184
        ]
       },
       "efa7f048-9acb-414c-8b04-a26811511a21": {
        "id": "efa7f048-9acb-414c-8b04-a26811511a21",
        "rgb": [
         25.118061674008803,
         73.60176211453744,
         107.4819383259912
        ]
       }
      },
      "rules": {
       "blockquote": {
        "color": "50f92c45-a630-455b-aec3-788680ec7410"
       },
       "code": {
        "font-family": "Anonymous Pro"
       },
       "h1": {
        "color": "c5cc3653-2ee1-402a-aba2-7caae1da4f6c",
        "font-family": "Lato",
        "font-size": 8
       },
       "h2": {
        "color": "c5cc3653-2ee1-402a-aba2-7caae1da4f6c",
        "font-family": "Lato",
        "font-size": 6
       },
       "h3": {
        "color": "50f92c45-a630-455b-aec3-788680ec7410",
        "font-family": "Lato",
        "font-size": 5.5
       },
       "h4": {
        "color": "c5cc3653-2ee1-402a-aba2-7caae1da4f6c",
        "font-family": "Lato",
        "font-size": 5
       },
       "h5": {
        "font-family": "Lato"
       },
       "h6": {
        "font-family": "Lato"
       },
       "h7": {
        "font-family": "Lato"
       },
       "pre": {
        "font-family": "Anonymous Pro",
        "font-size": 4
       }
      },
      "text-base": {
       "font-family": "Merriweather",
       "font-size": 4
      }
     }
    }
   }
  }
 },
 "nbformat": 4,
 "nbformat_minor": 0
}
