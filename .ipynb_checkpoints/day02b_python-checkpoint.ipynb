{
 "cells": [
  {
   "cell_type": "markdown",
   "metadata": {},
   "source": [
    "<!-- https://github.com/kmahelona/ipython_notebook_goodies -->\n",
    "<h1 id=\"tocheading\">Table of Contents</h1>\n",
    "<div id=\"toc\"></div>"
   ]
  },
  {
   "cell_type": "markdown",
   "metadata": {},
   "source": [
    "# Setup Software\n",
    "\n",
    "## Git, Github\n",
    "\n",
    "- **Git**. You may already have git installed. Try going to the terminal and type `git --version`. If not, then install from <https://git-scm.com/downloads>.\n",
    "\n",
    "- **Github**. Create an account at <http://github.com>, if you don't already have one. For username, I recommend all lower-case letters, short as you can. I recommned using your \\*ucsb.edu email, since you can request free private repositories via [GitHub Education](https://education.github.com/) discount. You're encouraged to upload a picture since it will get included in the students listing as part of this course repository.\n",
    "\n",
    "\n",
    "## Python - Anaconda distribution\n",
    "\n",
    "- Download and install the Python Anaconda distribution from <https://www.continuum.io/downloads>"
   ]
  },
  {
   "cell_type": "markdown",
   "metadata": {
    "nbpresent": {
     "id": "647cb299-ff50-40e0-b04f-368b8748970f"
    },
    "slideshow": {
     "slide_type": "slide"
    }
   },
   "source": [
    "# Data Science\n",
    "\n",
    "## What is Data Science?\n",
    "\n",
    "\n",
    "Consensus from [Python Data Science Handbook](http://shop.oreilly.com/product/0636920034919.do) by \n",
    "by Jake VanderPlas on [Drew Conway's Venn diagram of Data Science](http://drewconway.com/zia/2013/3/26/the-data-science-venn-diagram):\n",
    "\n",
    "![](http://static1.squarespace.com/static/5150aec6e4b0e340ec52710a/t/51525c33e4b0b3e0d10f77ab/1364352052403/Data_Science_VD.png?format=200w)"
   ]
  },
  {
   "cell_type": "markdown",
   "metadata": {
    "nbpresent": {
     "id": "8e67b722-27dd-490a-88ca-c12e20d2cbb9"
    },
    "slideshow": {
     "slide_type": "notes"
    }
   },
   "source": [
    "Interdisciplinary aspects:\n",
    "\n",
    "1. **Hacker** reads and cleans data, develops workflows and (web-based) visualizations\n",
    "1. **Statistician** models and summarizes data\n",
    "1. **Expert** advances knowledge for a given domain"
   ]
  },
  {
   "cell_type": "markdown",
   "metadata": {
    "nbpresent": {
     "id": "cf9aadee-4d1a-4504-917b-c460e5b45e66"
    },
    "slideshow": {
     "slide_type": "slide"
    }
   },
   "source": [
    "## Data Science Workflow\n",
    "\n",
    "I also like Hadley Wickham's [R for Data Science](http://r4ds.had.co.nz/) iterative recipe for exploratory data analysis:\n",
    "\n",
    "![](http://r4ds.had.co.nz/diagrams/data-science-explore.png)"
   ]
  },
  {
   "cell_type": "markdown",
   "metadata": {
    "slideshow": {
     "slide_type": "notes"
    }
   },
   "source": [
    "- **Import**: read in simple text files, eg comma-seperated values (*.csv) [`csv`, `numpy`, `pandas`]\n",
    "- **Tidy**: normalize data into easily queryable formats (eg \"wide\" to \"long\") [`pandas`]\n",
    "- **Transform**: manipulate data based on subsetting by rows or columns, sorting and joining [`pandas`]\n",
    "- **Model**: develop statistical or algorithmic model to test scientific hypothesis [`scikit-learn`, `networkX`]\n",
    "- **Visualise**: static [`matplotlib`] or interactive [`bokeh`] plots\n",
    "- **Communicate**: online [Github, Jupyter Notebooks, markdown]"
   ]
  },
  {
   "cell_type": "markdown",
   "metadata": {},
   "source": [
    "# Git & Github\n",
    "\n",
    "- **Git** is a version control system that lets you track changes to files over time. These files can be any kind of file (eg doc, pdf, xls), but free text differences are most easily visible (eg txt, csv, md). You can rollback changes made by you, or others. This facilitates a playground for collaboration, without fear of experimentation (you can always rollback changes).\n",
    "\n",
    "- **Github** is a website for storing your git versioned files remotely. It has many nice features to be able visualize differences between [images](https://help.github.com/articles/rendering-and-diffing-images/), [rendering](https://help.github.com/articles/mapping-geojson-files-on-github/) & [diffing](https://github.com/blog/1772-diffable-more-customizable-maps) map data files, [render text data files](https://help.github.com/articles/rendering-csv-and-tsv-data/), and [track changes in text](https://help.github.com/articles/rendering-differences-in-prose-documents/).   It's mostly designed to facilitate a technical conversation between commits, pull requests, issues and particular lines of code. It's also great for project management, with the ability to link issues, milestones and commits (see [Mastering Issues](https://guides.github.com/features/issues/))."
   ]
  },
  {
   "cell_type": "markdown",
   "metadata": {},
   "source": [
    "## Setup Github & Git\n",
    "\n",
    "1. Create **Github** account at <http://github.com>, if you don't already have one. For username, I recommend all lower-case letters, short as you can. I recommned using your \\*ucsb.edu email, since you can request free private repositories via [GitHub Education](https://education.github.com/) discount. You're encouraged to upload a picture since it will get included in the students listing as part of this course repository.\n",
    "\n",
    "1. Configure **git** with global commands. Open up the Bash version of Git and type the following:\n",
    "\n",
    "        # display your version of git\n",
    "        git --version\n",
    "        \n",
    "        # replace USER with your Github user account\n",
    "        git config –-global user.name USER\n",
    "        \n",
    "        # replace USER@UMAIL.UCSB.EDU with the email you used to register with Github\n",
    "        git config –-global user.email USER@UMAIL.UCSB.EDU\n",
    "        \n",
    "        # list your config to confirm user.* variables set\n",
    "        git config --list\n",
    "\n",
    "## Github Workflows\n",
    "\n",
    "The two most common workflow models for working Github repositories are based on your permissions:\n",
    "\n",
    "1. **writable**: Push & Pull (simplest)\n",
    "\n",
    "1. **read only**: Fork & Pull Request (extra steps)\n",
    "\n",
    "### Push & Pull\n",
    "\n",
    "repo location | `USER` permission | initialize <i class=\"fa fa-arrow-down\"></i> | edit <i class=\"fa fa-arrow-up\"></i> | update <i class=\"fa fa-arrow-down\"></i>\n",
    "-----------|:-----------:|:-----------:|:-----------:|:-----------:\n",
    "<i class=\"fa fa-cloud\"></i> `github.com/OWNER/REPO` | read + write | [**create**](https://help.github.com/articles/create-a-repo/) <span class=\"octicon octicon-plus\"></span> |   |\n",
    "<i class=\"fa fa-desktop\"></i> `~/github/REPO`      | read + write | [**clone**](https://help.github.com/articles/fetching-a-remote) <span class=\"octicon octicon-desktop-download\"></span> | [**commit**](http://git-scm.com/docs/git-commit) <span class=\"octicon octicon-git-commit\"></span>,  [**push**](https://help.github.com/articles/pushing-to-a-remote/) <span class=\"octicon octicon-cloud-upload\"></span> | [**pull**](https://help.github.com/articles/fetching-a-remote/#pull) <span class=\"octicon octicon-cloud-download\"></span>\n",
    "\n",
    "Note that OWNER could be either an individual USER or group ORGANIZATION, which has member USERs.\n",
    "\n",
    "### Fork & Pull Request\n",
    "\n",
    "repo location | `USER` permission | initialize <i class=\"fa fa-arrow-down\"></i> | edit <i class=\"fa fa-arrow-up\"></i> | update <i class=\"fa fa-arrow-down\"></i>\n",
    "-----------|:-----------:|:-----------:|:-----------:|:-----------:\n",
    "<i class=\"fa fa-cloud\"></i> `github.com/OWNER/REPO` | read only |  | [**merge**](https://help.github.com/articles/merging-a-pull-request) <span class=\"octicon octicon-git-merge\"></span>  | \n",
    "<i class=\"fa fa-cloud\"></i> `github.com/OWNER/REPO`    | read + write | [**fork**](https://help.github.com/articles/fork-a-repo) <span class=\"octicon octicon-repo-forked\"></span> | [**pull request**](https://help.github.com/articles/creating-a-pull-request/) <span class=\"octicon octicon-git-pull-request\"></span> | [**pull request**](https://help.github.com/articles/creating-a-pull-request/) <span class=\"octicon octicon-git-pull-request\"></span>, [**merge**](https://help.github.com/articles/merging-a-pull-request) <span class=\"octicon octicon-git-merge\"></span>\n",
    "<i class=\"fa fa-desktop\"></i> `~/github/REPO` | read + write | [**clone**](https://help.github.com/articles/fetching-a-remote) <span class=\"octicon octicon-desktop-download\"></span> | [**commit**](http://git-scm.com/docs/git-commit) <span class=\"octicon octicon-git-commit\"></span>,  [**push**](https://help.github.com/articles/pushing-to-a-remote/) <span class=\"octicon octicon-cloud-upload\"></span> | [**pull**](https://help.github.com/articles/fetching-a-remote/#pull) <span class=\"octicon octicon-cloud-download\"></span>\n",
    "\n",
    "## Fork & Pull Request Your People Entry\n",
    "\n",
    "As an exercise for you to try out this fork & pull request model, you will add yourself to the [**<i class=\"fa fa-users\"></i> Github Directory** for UCSB Network Data Science Boot Camp (2016)](http://bbest.github.io/ucsb-network-data-science-2016/) directory for this workshop which initially looks like this:\n",
    "\n",
    "  ![](img/directory_bbest-only.png)\n",
    "\n",
    "Please join me! Because you cannot directly write to this course repository, [fork](https://help.github.com/articles/fork-a-repo/) it into your own USER space. You can further [clone](https://help.github.com/articles/cloning-a-repository/) it onto your machine to edit locally, or simply create a New file through the web browser. Introduce yourself by adding a tiny file per your **Github** `USERNAME.json` under the `_data/2016` directory. Here's an example for my Github username `bbest`, so in a file named `bbest.json`:\n",
    "\n",
    "```javascript\n",
    "{\n",
    "\t\"department\": \"MSI, NCEAS (consultant)\",\n",
    "\t\"interests\": \"marine biodiversity, ocean health\",\n",
    "\t\"project\": \"\",\n",
    "\t\"project_url\": \"\"\n",
    "}\n",
    "```\n",
    "\n",
    "If you cloned to your machine, be sure to git [commit](http://git-scm.com/docs/git-commit) and [push](https://help.github.com/articles/pushing-to-a-remote/) the changes, and [**create a pull request**](https://help.github.com/articles/creating-a-pull-request/) to the original repository `bbest/ucsb-network-data-science-2016`.\n",
    "\n",
    "The details of how this works (using [Jekyll data files](https://jekyllrb.com/docs/datafiles/)) are beyond the scope of this boot camp, but provides a simple satisfying example for applying the fork & pull request model to a repository for which you do not have write permissions and want to contribute towards.\n",
    "\n",
    "## Create Repository `my-project`\n",
    "\n",
    "Now you will create a Github repository for a project to which you will have direct write access, ie use the push & pull model.\n",
    "\n",
    "1. [Create a repository](https://help.github.com/articles/create-a-repo/) called `my-project`.\n",
    "\n",
    "    ![](img/github_repo-create.png)\n",
    "    \n",
    "    Please be sure to tick the box to **Initialize this repository with a README**. Otherwise defaults are fine.\n",
    "    \n",
    "    ![](img/github_create-my-project.png)\n",
    "\n",
    "1. [Create a branch](https://help.github.com/articles/creating-and-deleting-branches-within-your-repository/) called `gh-pages`.\n",
    "\n",
    "    ![](img/github_create-branch_gh-pages.png)\n",
    "    \n",
    "    Per [pages.github.com](https://pages.github.com), since this will be a project site only web files in the `gh-pages` branch will show up at `http://USER.github.io/REPO`. For a user (or organization) site, the REPO must be named `USER.github.io` (or `ORG.github.io`) and then the default `master` branch will contain the web files for the website `http://USER.github.io` (or `http://ORG.github.io`). See also [User, Organization, and Project Pages - Github Help](https://help.github.com/articles/user-organization-and-project-pages/).\n",
    "    \n",
    "1. [Set the default branch](https://help.github.com/articles/setting-the-default-branch/) to `gh-pages`, NOT the default `master`.\n",
    "\n",
    "    ![](img/github_default-branch_gh-pages.png)\n",
    "    \n",
    "1. [Delete the branch](https://help.github.com/articles/viewing-branches-in-your-repository/#deleting-branches) `master`, which will not be used.\n",
    "\n",
    "## Edit `README.md` in Markdown\n",
    "\n",
    "[Commit your first change](https://help.github.com/articles/create-a-repo/#commit-your-first-change) by editing the `README.md` which is in **markdown**, simple syntax for conversion to HTML. Now update the contents of the `README.md` with the following, having a link and a numbered list:\n",
    "  \n",
    "```\n",
    "# my-project\n",
    "\n",
    "Playing with [Software Carpentry at UCSB](http://remi-daigle.github.io/2016-04-15-UCSB).\n",
    "\n",
    "## Introduction\n",
    "\n",
    "This repository demonstrates **software** and _formats_:\n",
    "\n",
    "1. **Git**\n",
    "1. **Github**\n",
    "1. _Markdown_\n",
    "1. _Rmarkdown_\n",
    "\n",
    "## Conclusion\n",
    "\n",
    "![](https://octodex.github.com/images/labtocat.png)\n",
    "```\n",
    "    \n",
    "Now click on the <span class=\"octicon octicon-eye\"></span> Preview changes to see the markdown rendered as HTML:\n",
    "    \n",
    "![](img/github_preview_README-md.png)\n",
    "    \n",
    "Notice the syntax for:\n",
    "\n",
    "- **numbered list** gets automatically sequenced: `1.`, `1.`\n",
    "- **headers** get rendered at multiple levels: `#`, `##`\n",
    "- **link**: `[](http://...)`\n",
    "- **image**: `![](http://...)`\n",
    "- _italics_: `_word_` \n",
    "- **bold**: `**word**`\n",
    "\n",
    "See [Mastering Markdown · GitHub Guides](https://guides.github.com/features/mastering-markdown/) and add some more personalized content to the README of your own, like a bulleted list or blockquote.\n",
    "\n",
    "## Create `index.html`\n",
    "\n",
    "By default `index.html` is served up. Go ahead and create a new file named `index.html` with the following [basic HTML](http://www.w3schools.com/html/html_basic.asp):\n",
    "\n",
    "```html\n",
    "<!DOCTYPE html>\n",
    "<html>\n",
    "<body>\n",
    "\n",
    "<h1>My First Heading</h1>\n",
    "\n",
    "<p>My first paragraph.</p>\n",
    "\n",
    "</body>\n",
    "</html>\n",
    "```\n",
    "\n",
    "## Clone Repository\n",
    "\n",
    "[Clone the repository](https://help.github.com/articles/fetching-a-remote) onto your local machine. The easiest way to do this is simply clicking the button <span class=\"octicon octicon-desktop-download\"></span> to open up the Github Desktop App.\n",
    "\n",
    "![](img/github_clone-desktop.png)\n",
    "    \n",
    "You'll be prompted to clone this repository into a folder on your local machine. I recommend creating a folder `github` under your user folder.\n",
    "  \n",
    "See [GitHub Desktop User Guides](https://help.github.com/desktop/guides/) for more. You could also do this from the Bash Shell for Git with the command `git clone https://github.com/USER/REPO.git`, replacing USER with your Github username and REPO with my_project. Or you can use the Github Desktop App menu File -> Clone Repository..."
   ]
  },
  {
   "cell_type": "markdown",
   "metadata": {
    "nbpresent": {
     "id": "bb255ad1-bc89-408e-a6fb-ff64fc30f74f"
    }
   },
   "source": [
    "# Python using Jupyter Notebook\n",
    "\n",
    "The **Python** programming language was created by Guido Von Rossum, the \"benevolent dictator\" who likes Monty Python comedies.\n",
    "\n",
    "**Jupyter** started off as iPython (interactive Python) Notebook, then was generalized to include other language kernels to include Julia (Ju), Python (pyt) and R (r), hence the rename. With Jupyter Notebook you can weave cells of descriptive Markdown content with cells of Code into a single notebook document.\n",
    "\n",
    "\n",
    "## Launch Jupyter Notebook\n",
    "\n",
    "```bash\n",
    "# change directory to where you git cloned the course repo\n",
    "cd ~/github/ucsb-network-data-science-2016\n",
    "jupyter notebook\n",
    "```\n",
    "\n",
    "Play around with creating a new notebook and populating cells of Markdown and Code.\n",
    "\n",
    "## Python Basics\n",
    "\n",
    "```python\n",
    "# basic calculations\n",
    "1 + 1\n",
    "\n",
    "# assign variables from integer, string data types\n",
    "a = 2\n",
    "b = 5\n",
    "c = 'a string'\n",
    "a/b\n",
    "a/c\n",
    "\n",
    "# import the operating system module\n",
    "import(os)\n",
    "\n",
    "# everything is an object\n",
    "dir()\n",
    "dir(os)\n",
    "\n",
    "# get the current working directory\n",
    "os.getcwd()\n",
    "\n",
    "# assign a list\n",
    "x = [1,3,4]\n",
    "\n",
    "# grab specific elements in a list. zero indexed!\n",
    "x[0]\n",
    "x[0:1]      # only 1 element, so goes up to last slice and excludes\n",
    "x[0:2]      # misses last element\n",
    "len(x)      # length of 3\n",
    "x[0:len(x)] # gets all 3 elements\n",
    "\n",
    "# inspect x as an object\n",
    "type(x)\n",
    "dir(x)\n",
    "\n",
    "# sort x\n",
    "print(x)\n",
    "x.sort()\n",
    "print(x)\n",
    "\n",
    "# loop through the list. indentation matters!\n",
    "cum_sum = 0\n",
    "for i in x:\n",
    "    cum_sum += i\n",
    "    print(cum_sum-i,'+',i,'=',cum_sum)\n",
    "\n",
    "# range, conditionals, string formatting\n",
    "cum_sum = 0\n",
    "for i in range(10):\n",
    "    cum_sum += i\n",
    "    if cum_sum > 5:\n",
    "        print('{0}, {1}, {2}'.format(cum_sum-i, i, cum_sum))\n",
    "    else:\n",
    "        print('cum_sum < 5')\n",
    "```\n",
    "\n",
    "For more, see: \n",
    "\n",
    "- [Python_Data_Science_Handbook.pdf](https://drive.google.com/open?id=0B7zzHLs-PTOvRHRvSkR5aVFfODA) chapter 1: A Whirlwind Tour of the Python Language.\n",
    "- [The Python Tutorial — Python 3.5.2 documentation](https://docs.python.org/3/tutorial/index.html)\n",
    "\n",
    "\n",
    "TODO:\n",
    "- data types: \n",
    "  - strings: real vs unicode\n",
    "  - lists. list comprehension"
   ]
  },
  {
   "cell_type": "markdown",
   "metadata": {},
   "source": [
    "# Graphs with Python\n",
    "\n",
    "For more on dictionaries, see [5. Data Structures — Python 3.5.2 documentation](https://docs.python.org/3/tutorial/datastructures.html#dictionaries)\n",
    "\n",
    "\n",
    "The following cells of code are directly pulled from [Python Advanced: Graph Theory and Graphs in Python](http://www.python-course.eu/graphs_python.php) where the following graph is used as an example to build up in Python:\n",
    "\n",
    "\n",
    "![](http://www.python-course.eu/images/simple_graph_isolated.png)\n",
    "\n",
    "## Define Graph as a Dictionary "
   ]
  },
  {
   "cell_type": "code",
   "execution_count": 63,
   "metadata": {
    "collapsed": false
   },
   "outputs": [
    {
     "name": "stdout",
     "output_type": "stream",
     "text": [
      "[('e', 'c'), ('e', 'b'), ('c', 'a'), ('c', 'b'), ('c', 'd'), ('c', 'e'), ('d', 'c'), ('b', 'c'), ('b', 'e'), ('a', 'c')]\n"
     ]
    }
   ],
   "source": [
    "# define a graph as a dictionary\n",
    "graph = { \"a\" : [\"c\"],\n",
    "          \"b\" : [\"c\", \"e\"],\n",
    "          \"c\" : [\"a\", \"b\", \"d\", \"e\"],\n",
    "          \"d\" : [\"c\"],\n",
    "          \"e\" : [\"c\", \"b\"],\n",
    "          \"f\" : []\n",
    "        }\n",
    "        \n",
    "# define function to output list of all edges\n",
    "def generate_edges(graph):\n",
    "    edges = []\n",
    "    for node in graph:\n",
    "        for neighbour in graph[node]:\n",
    "            edges.append((node, neighbour))\n",
    "\n",
    "    return edges\n",
    "\n",
    "print(generate_edges(graph))"
   ]
  },
  {
   "cell_type": "markdown",
   "metadata": {},
   "source": [
    "## Find Isolated Nodes"
   ]
  },
  {
   "cell_type": "code",
   "execution_count": 64,
   "metadata": {
    "collapsed": false
   },
   "outputs": [
    {
     "name": "stdout",
     "output_type": "stream",
     "text": [
      "['f']\n"
     ]
    }
   ],
   "source": [
    "def find_isolated_nodes(graph):\n",
    "    \"\"\" returns a list of isolated nodes. \"\"\"\n",
    "    isolated = []\n",
    "    for node in graph:\n",
    "        if not graph[node]:\n",
    "            isolated += node\n",
    "    return isolated\n",
    "    \n",
    "    \n",
    "print(find_isolated_nodes(graph))"
   ]
  },
  {
   "cell_type": "markdown",
   "metadata": {},
   "source": [
    "## Create a Graph Class\n",
    "\n",
    "Now use object oriented programming in Python to create a special Graph class.\n"
   ]
  },
  {
   "cell_type": "code",
   "execution_count": 65,
   "metadata": {
    "collapsed": false
   },
   "outputs": [
    {
     "name": "stdout",
     "output_type": "stream",
     "text": [
      "Vertices of graph:\n",
      "['e', 'x', 'c', 'f', 'd', 'b', 'z', 'a']\n",
      "Edges of graph:\n",
      "[{'e', 'c'}, {'x', 'y'}, {'b', 'c'}, {'c'}, {'c', 'd'}, {'a', 'd'}, {'a', 'z'}]\n",
      "Add vertex:\n",
      "Vertices of graph:\n",
      "['e', 'x', 'c', 'f', 'd', 'b', 'z', 'a']\n",
      "Add an edge:\n",
      "Vertices of graph:\n",
      "['e', 'x', 'c', 'f', 'd', 'b', 'z', 'a']\n",
      "Edges of graph:\n",
      "[{'e', 'c'}, {'x', 'y'}, {'b', 'c'}, {'c'}, {'c', 'd'}, {'a', 'd'}, {'a', 'z'}]\n",
      "Adding an edge {\"x\",\"y\"} with new vertices:\n",
      "Vertices of graph:\n",
      "['e', 'x', 'c', 'f', 'd', 'b', 'z', 'a']\n",
      "Edges of graph:\n",
      "[{'e', 'c'}, {'x', 'y'}, {'b', 'c'}, {'c'}, {'c', 'd'}, {'a', 'd'}, {'a', 'z'}]\n"
     ]
    }
   ],
   "source": [
    "\"\"\" A Python Class\n",
    "A simple Python graph class, demonstrating the essential \n",
    "facts and functionalities of graphs.\n",
    "\"\"\"\n",
    "class Graph(object):\n",
    "\n",
    "    def __init__(self, graph_dict=None):\n",
    "        \"\"\" initializes a graph object \n",
    "            If no dictionary or None is given, \n",
    "            an empty dictionary will be used\n",
    "        \"\"\"\n",
    "        if graph_dict == None:\n",
    "            graph_dict = {}\n",
    "        self.__graph_dict = graph_dict\n",
    "\n",
    "    def vertices(self):\n",
    "        \"\"\" returns the vertices of a graph \"\"\"\n",
    "        return list(self.__graph_dict.keys())\n",
    "\n",
    "    def edges(self):\n",
    "        \"\"\" returns the edges of a graph \"\"\"\n",
    "        return self.__generate_edges()\n",
    "\n",
    "    def add_vertex(self, vertex):\n",
    "        \"\"\" If the vertex \"vertex\" is not in \n",
    "            self.__graph_dict, a key \"vertex\" with an empty\n",
    "            list as a value is added to the dictionary. \n",
    "            Otherwise nothing has to be done. \n",
    "        \"\"\"\n",
    "        if vertex not in self.__graph_dict:\n",
    "            self.__graph_dict[vertex] = []\n",
    "\n",
    "    def add_edge(self, edge):\n",
    "        \"\"\" assumes that edge is of type set, tuple or list; \n",
    "            between two vertices can be multiple edges! \n",
    "        \"\"\"\n",
    "        edge = set(edge)\n",
    "        (vertex1, vertex2) = tuple(edge)\n",
    "        if vertex1 in self.__graph_dict:\n",
    "            self.__graph_dict[vertex1].append(vertex2)\n",
    "        else:\n",
    "            self.__graph_dict[vertex1] = [vertex2]\n",
    "\n",
    "    def __generate_edges(self):\n",
    "        \"\"\" A static method generating the edges of the \n",
    "            graph \"graph\". Edges are represented as sets \n",
    "            with one (a loop back to the vertex) or two \n",
    "            vertices \n",
    "        \"\"\"\n",
    "        edges = []\n",
    "        for vertex in self.__graph_dict:\n",
    "            for neighbour in self.__graph_dict[vertex]:\n",
    "                if {neighbour, vertex} not in edges:\n",
    "                    edges.append({vertex, neighbour})\n",
    "        return edges\n",
    "\n",
    "    def __str__(self):\n",
    "        res = \"vertices: \"\n",
    "        for k in self.__graph_dict:\n",
    "            res += str(k) + \" \"\n",
    "        res += \"\\nedges: \"\n",
    "        for edge in self.__generate_edges():\n",
    "            res += str(edge) + \" \"\n",
    "        return res\n",
    "\n",
    "graph = Graph(g)\n",
    "\n",
    "print(\"Vertices of graph:\")\n",
    "print(graph.vertices())\n",
    "\n",
    "print(\"Edges of graph:\")\n",
    "print(graph.edges())\n",
    "\n",
    "print(\"Add vertex:\")\n",
    "graph.add_vertex(\"z\")\n",
    "\n",
    "print(\"Vertices of graph:\")\n",
    "print(graph.vertices())\n",
    "\n",
    "print(\"Add an edge:\")\n",
    "graph.add_edge({\"a\",\"z\"})\n",
    "\n",
    "print(\"Vertices of graph:\")\n",
    "print(graph.vertices())\n",
    "\n",
    "print(\"Edges of graph:\")\n",
    "print(graph.edges())\n",
    "\n",
    "print('Adding an edge {\"x\",\"y\"} with new vertices:')\n",
    "graph.add_edge({\"x\",\"y\"})\n",
    "print(\"Vertices of graph:\")\n",
    "print(graph.vertices())\n",
    "print(\"Edges of graph:\")\n",
    "print(graph.edges())"
   ]
  },
  {
   "cell_type": "markdown",
   "metadata": {},
   "source": [
    "## Add `find_path()` to Graph class\n",
    "\n",
    "Now let's add a function to find paths `find_path()`"
   ]
  },
  {
   "cell_type": "code",
   "execution_count": 66,
   "metadata": {
    "collapsed": false
   },
   "outputs": [
    {
     "name": "stdout",
     "output_type": "stream",
     "text": [
      "Vertices of graph:\n",
      "['e', 'x', 'c', 'f', 'd', 'b', 'z', 'a']\n",
      "Edges of graph:\n",
      "[{'e', 'c'}, {'x', 'y'}, {'b', 'c'}, {'c'}, {'c', 'd'}, {'a', 'd'}, {'a', 'z'}]\n",
      "The path from vertex \"a\" to vertex \"b\":\n",
      "['a', 'd', 'c', 'b']\n",
      "The path from vertex \"a\" to vertex \"f\":\n",
      "None\n",
      "The path from vertex \"c\" to vertex \"c\":\n",
      "['c']\n"
     ]
    }
   ],
   "source": [
    "class Graph(object):\n",
    "\n",
    "    def __init__(self, graph_dict=None):\n",
    "        \"\"\" initializes a graph object \n",
    "            If no dictionary or None is given, \n",
    "            an empty dictionary will be used\n",
    "        \"\"\"\n",
    "        if graph_dict == None:\n",
    "            graph_dict = {}\n",
    "        self.__graph_dict = graph_dict\n",
    "\n",
    "    def vertices(self):\n",
    "        \"\"\" returns the vertices of a graph \"\"\"\n",
    "        return list(self.__graph_dict.keys())\n",
    "\n",
    "    def edges(self):\n",
    "        \"\"\" returns the edges of a graph \"\"\"\n",
    "        return self.__generate_edges()\n",
    "\n",
    "    def add_vertex(self, vertex):\n",
    "        \"\"\" If the vertex \"vertex\" is not in \n",
    "            self.__graph_dict, a key \"vertex\" with an empty\n",
    "            list as a value is added to the dictionary. \n",
    "            Otherwise nothing has to be done. \n",
    "        \"\"\"\n",
    "        if vertex not in self.__graph_dict:\n",
    "            self.__graph_dict[vertex] = []\n",
    "\n",
    "    def add_edge(self, edge):\n",
    "        \"\"\" assumes that edge is of type set, tuple or list; \n",
    "            between two vertices can be multiple edges! \n",
    "        \"\"\"\n",
    "        edge = set(edge)\n",
    "        (vertex1, vertex2) = tuple(edge)\n",
    "        if vertex1 in self.__graph_dict:\n",
    "            self.__graph_dict[vertex1].append(vertex2)\n",
    "        else:\n",
    "            self.__graph_dict[vertex1] = [vertex2]\n",
    "\n",
    "    def __generate_edges(self):\n",
    "        \"\"\" A static method generating the edges of the \n",
    "            graph \"graph\". Edges are represented as sets \n",
    "            with one (a loop back to the vertex) or two \n",
    "            vertices \n",
    "        \"\"\"\n",
    "        edges = []\n",
    "        for vertex in self.__graph_dict:\n",
    "            for neighbour in self.__graph_dict[vertex]:\n",
    "                if {neighbour, vertex} not in edges:\n",
    "                    edges.append({vertex, neighbour})\n",
    "        return edges\n",
    "\n",
    "    def __str__(self):\n",
    "        res = \"vertices: \"\n",
    "        for k in self.__graph_dict:\n",
    "            res += str(k) + \" \"\n",
    "        res += \"\\nedges: \"\n",
    "        for edge in self.__generate_edges():\n",
    "            res += str(edge) + \" \"\n",
    "        return res\n",
    "        \n",
    "    def find_path(self, start_vertex, end_vertex, path=None):\n",
    "        \"\"\" find a path from start_vertex to end_vertex \n",
    "            in graph \"\"\"\n",
    "        if path == None:\n",
    "            path = []\n",
    "        graph = self.__graph_dict\n",
    "        path.append(start_vertex)\n",
    "        if start_vertex == end_vertex:\n",
    "            return path\n",
    "        if start_vertex not in graph:\n",
    "            return None\n",
    "        for vertex in graph[start_vertex]:\n",
    "            if vertex not in path:\n",
    "                extended_path = self.find_path(vertex, \n",
    "                                               end_vertex, \n",
    "                                               path)\n",
    "                if extended_path: \n",
    "                    return extended_path\n",
    "        return None\n",
    "\n",
    "graph = Graph(g)\n",
    "\n",
    "print(\"Vertices of graph:\")\n",
    "print(graph.vertices())\n",
    "\n",
    "print(\"Edges of graph:\")\n",
    "print(graph.edges())\n",
    "\n",
    "\n",
    "print('The path from vertex \"a\" to vertex \"b\":')\n",
    "path = graph.find_path(\"a\", \"b\")\n",
    "print(path)\n",
    "\n",
    "print('The path from vertex \"a\" to vertex \"f\":')\n",
    "path = graph.find_path(\"a\", \"f\")\n",
    "print(path)\n",
    "\n",
    "print('The path from vertex \"c\" to vertex \"c\":')\n",
    "path = graph.find_path(\"c\", \"c\")\n",
    "print(path)"
   ]
  },
  {
   "cell_type": "markdown",
   "metadata": {},
   "source": [
    "## NetworkX\n",
    "\n",
    "The most commonly used networking package in Python is [NetworkX](https://networkx.github.io/), which is included in the Anaconda distribution.\n",
    "\n",
    "Here's the [Quick Example — NetworkX](https://networkx.github.io/examples.html):"
   ]
  },
  {
   "cell_type": "code",
   "execution_count": 67,
   "metadata": {
    "collapsed": false
   },
   "outputs": [
    {
     "name": "stdout",
     "output_type": "stream",
     "text": [
      "[1, 2, 'spam']\n",
      "[(1, 2)]\n"
     ]
    }
   ],
   "source": [
    "import networkx as nx\n",
    "\n",
    "G=nx.Graph()\n",
    "G.add_node(\"spam\")\n",
    "G.add_edge(1,2)\n",
    "\n",
    "print(list(G.nodes()))\n",
    "print(list(G.edges()))"
   ]
  },
  {
   "cell_type": "markdown",
   "metadata": {},
   "source": [
    "To compare the NetworkX Graph class with earlier, see the code in [networkx/graph.py](https://github.com/networkx/networkx/blob/master/networkx/classes/graph.py#L181-L185), and in particular the extra information it is capable of storing: \n",
    "\n",
    "> The Graph class uses a dict-of-dict-of-dict data structure.\n",
    "The outer dict (node_dict) holds adjacency information keyed by node.\n",
    "The next dict (adjlist_dict) represents the adjacency information and holds\n",
    "edge data keyed by neighbor.  The inner dict (edge_attr_dict) represents\n",
    "the edge data and holds edge attribute values keyed by attribute names.\n"
   ]
  },
  {
   "cell_type": "markdown",
   "metadata": {},
   "source": [
    "# Reading Tabular Data with Pandas\n",
    "\n",
    "[Pandas](http://pandas.pydata.org/pandas-docs/stable/) is well suited for \"tabular data with heterogeneously-typed columns, as in an SQL table or Excel spreadsheet.\"\n",
    "\n",
    "- [Package overview — pandas 0.18.1 documentation](http://pandas.pydata.org/pandas-docs/stable/overview.html)\n",
    "- [10 Minutes to pandas — pandas 0.18.1 documentation](http://pandas.pydata.org/pandas-docs/stable/10min.html)\n",
    "- [12 Useful Pandas Techniques in Python for Data Manipulation](https://www.analyticsvidhya.com/blog/2016/01/12-pandas-techniques-python-data-manipulation/)\n",
    "\n",
    "Other:\n",
    "- numpy: `loadtxt`, `numpygenfromtxt`\n",
    "- [csv — CSV File Reading and Writing — examples](https://docs.python.org/3/library/csv.html#examples)\n",
    "- represent each row with own key,val vs each col has key: list of values\n",
    "\n",
    "```python\n",
    "import csv\n",
    "\n",
    "d = {}\n",
    "rdr = csv.reader(open('filename.csv', 'r'))\n",
    "d.keys = rdr.next()\n",
    "for row in rdr:\n",
    "   k, v = row\n",
    "   d[d.keys()] = v\n",
    "```\n",
    "\n",
    "- read csv (vs dict representation)\n",
    "\n",
    "```python\n",
    "dic = pd.Series.from_csv(filename, names=cols, header=None).to_dict()\n",
    "```"
   ]
  },
  {
   "cell_type": "code",
   "execution_count": null,
   "metadata": {
    "collapsed": true
   },
   "outputs": [],
   "source": []
  },
  {
   "cell_type": "code",
   "execution_count": 68,
   "metadata": {
    "collapsed": false,
    "scrolled": true
   },
   "outputs": [
    {
     "data": {
      "application/javascript": [
       "$.getScript('https://kmahelona.github.io/ipython_notebook_goodies/ipython_notebook_toc.js')"
      ],
      "text/plain": [
       "<IPython.core.display.Javascript object>"
      ]
     },
     "metadata": {},
     "output_type": "display_data"
    }
   ],
   "source": [
    "%%javascript\n",
    "$.getScript('https://kmahelona.github.io/ipython_notebook_goodies/ipython_notebook_toc.js')"
   ]
  }
 ],
 "metadata": {
  "anaconda-cloud": {},
  "kernelspec": {
   "display_name": "Python [Root]",
   "language": "python",
   "name": "Python [Root]"
  },
  "language_info": {
   "codemirror_mode": {
    "name": "ipython",
    "version": 3
   },
   "file_extension": ".py",
   "mimetype": "text/x-python",
   "name": "python",
   "nbconvert_exporter": "python",
   "pygments_lexer": "ipython3",
   "version": "3.5.2"
  },
  "nbpresent": {
   "slides": {
    "3c38957e-4130-4244-aa6d-95122917f751": {
     "id": "3c38957e-4130-4244-aa6d-95122917f751",
     "prev": "ba2ce635-351a-4bbd-8aed-46afd6c2d85e",
     "regions": {
      "ef50a427-e0a9-4bb7-ada0-18955d3c9a7b": {
       "attrs": {
        "height": 0.8,
        "width": 0.8,
        "x": 0.1,
        "y": 0.1
       },
       "content": {
        "cell": "bb255ad1-bc89-408e-a6fb-ff64fc30f74f",
        "part": "whole"
       },
       "id": "ef50a427-e0a9-4bb7-ada0-18955d3c9a7b"
      }
     }
    },
    "60d501ea-74eb-474d-890a-75c5071318dc": {
     "id": "60d501ea-74eb-474d-890a-75c5071318dc",
     "prev": "3c38957e-4130-4244-aa6d-95122917f751",
     "regions": {
      "d8fd497d-eecb-46a6-8e1f-e69312bf6197": {
       "attrs": {
        "height": 0.8,
        "width": 0.8,
        "x": 0.1,
        "y": 0.1
       },
       "content": {
        "cell": "a603c30f-a759-44eb-8648-4acb6c3c5734",
        "part": "whole"
       },
       "id": "d8fd497d-eecb-46a6-8e1f-e69312bf6197"
      }
     }
    },
    "ba2ce635-351a-4bbd-8aed-46afd6c2d85e": {
     "id": "ba2ce635-351a-4bbd-8aed-46afd6c2d85e",
     "prev": "f34bd4ca-6364-4a79-ab2d-5486bdfc3d38",
     "regions": {
      "4bcfabbc-2d8d-4750-bbe9-b0ab5dc512a9": {
       "attrs": {
        "height": 0.8,
        "width": 0.8,
        "x": 0.1,
        "y": 0.1
       },
       "content": {
        "cell": "cf9aadee-4d1a-4504-917b-c460e5b45e66",
        "part": "whole"
       },
       "id": "4bcfabbc-2d8d-4750-bbe9-b0ab5dc512a9"
      }
     }
    },
    "f34bd4ca-6364-4a79-ab2d-5486bdfc3d38": {
     "id": "f34bd4ca-6364-4a79-ab2d-5486bdfc3d38",
     "layout": "grid",
     "prev": null,
     "regions": {
      "e3b23d6a-93ec-4eef-b5ab-75c67d1bd93c": {
       "attrs": {
        "height": 0.8333333333333334,
        "pad": 0.01,
        "width": 0.8333333333333334,
        "x": 0.08333333333333333,
        "y": 0.08333333333333333
       },
       "content": {
        "cell": "647cb299-ff50-40e0-b04f-368b8748970f",
        "part": "whole"
       },
       "id": "e3b23d6a-93ec-4eef-b5ab-75c67d1bd93c"
      }
     }
    }
   },
   "themes": {
    "default": "2db1f9d0-3eea-46cf-b72f-4f27bef9653d",
    "theme": {
     "2db1f9d0-3eea-46cf-b72f-4f27bef9653d": {
      "id": "2db1f9d0-3eea-46cf-b72f-4f27bef9653d",
      "palette": {
       "19cc588f-0593-49c9-9f4b-e4d7cc113b1c": {
        "id": "19cc588f-0593-49c9-9f4b-e4d7cc113b1c",
        "rgb": [
         252,
         252,
         252
        ]
       },
       "31af15d2-7e15-44c5-ab5e-e04b16a89eff": {
        "id": "31af15d2-7e15-44c5-ab5e-e04b16a89eff",
        "rgb": [
         68,
         68,
         68
        ]
       },
       "50f92c45-a630-455b-aec3-788680ec7410": {
        "id": "50f92c45-a630-455b-aec3-788680ec7410",
        "rgb": [
         155,
         177,
         192
        ]
       },
       "c5cc3653-2ee1-402a-aba2-7caae1da4f6c": {
        "id": "c5cc3653-2ee1-402a-aba2-7caae1da4f6c",
        "rgb": [
         43,
         126,
         184
        ]
       },
       "efa7f048-9acb-414c-8b04-a26811511a21": {
        "id": "efa7f048-9acb-414c-8b04-a26811511a21",
        "rgb": [
         25.118061674008803,
         73.60176211453744,
         107.4819383259912
        ]
       }
      },
      "rules": {
       "blockquote": {
        "color": "50f92c45-a630-455b-aec3-788680ec7410"
       },
       "code": {
        "font-family": "Anonymous Pro"
       },
       "h1": {
        "color": "c5cc3653-2ee1-402a-aba2-7caae1da4f6c",
        "font-family": "Lato",
        "font-size": 8
       },
       "h2": {
        "color": "c5cc3653-2ee1-402a-aba2-7caae1da4f6c",
        "font-family": "Lato",
        "font-size": 6
       },
       "h3": {
        "color": "50f92c45-a630-455b-aec3-788680ec7410",
        "font-family": "Lato",
        "font-size": 5.5
       },
       "h4": {
        "color": "c5cc3653-2ee1-402a-aba2-7caae1da4f6c",
        "font-family": "Lato",
        "font-size": 5
       },
       "h5": {
        "font-family": "Lato"
       },
       "h6": {
        "font-family": "Lato"
       },
       "h7": {
        "font-family": "Lato"
       },
       "pre": {
        "font-family": "Anonymous Pro",
        "font-size": 4
       }
      },
      "text-base": {
       "font-family": "Merriweather",
       "font-size": 4
      }
     }
    }
   }
  }
 },
 "nbformat": 4,
 "nbformat_minor": 0
}
