{
 "cells": [
  {
   "cell_type": "markdown",
   "metadata": {},
   "source": [
    "<h1 id=\"tocheading\">Table of Contents</h1>\n",
    "<div id=\"toc\"></div>"
   ]
  },
  {
   "cell_type": "markdown",
   "metadata": {
    "collapsed": true
   },
   "source": [
    "<script>\n",
    "  function code_toggle() {\n",
    "    if (code_shown){\n",
    "      $('div.input').hide('500');\n",
    "      $('#toggleButton').val('Show Code')\n",
    "    } else {\n",
    "      $('div.input').show('500');\n",
    "      $('#toggleButton').val('Hide Code')\n",
    "    }\n",
    "    code_shown = !code_shown\n",
    "  }\n",
    "\n",
    "  $( document ).ready(function(){\n",
    "    code_shown=false;\n",
    "    $('div.input').hide()\n",
    "  });\n",
    "</script>\n",
    "<form action=\"javascript:code_toggle()\"><input type=\"submit\" id=\"toggleButton\" value=\"Show Code\"></form>"
   ]
  },
  {
   "cell_type": "code",
   "execution_count": 10,
   "metadata": {
    "collapsed": false
   },
   "outputs": [
    {
     "data": {
      "application/javascript": [
       "$.getScript('https://kmahelona.github.io/ipython_notebook_goodies/ipython_notebook_toc.js')"
      ],
      "text/plain": [
       "<IPython.core.display.Javascript object>"
      ]
     },
     "metadata": {},
     "output_type": "display_data"
    }
   ],
   "source": [
    "%%javascript\n",
    "$.getScript('https://kmahelona.github.io/ipython_notebook_goodies/ipython_notebook_toc.js')"
   ]
  },
  {
   "cell_type": "markdown",
   "metadata": {
    "nbpresent": {
     "id": "647cb299-ff50-40e0-b04f-368b8748970f"
    },
    "slideshow": {
     "slide_type": "slide"
    }
   },
   "source": [
    "## What is Data Science?\n",
    "\n",
    "\n",
    "Consensus from [Python Data Science Handbook](http://shop.oreilly.com/product/0636920034919.do) by \n",
    "by Jake VanderPlas on [Drew Conway's Venn diagram of Data Science](http://drewconway.com/zia/2013/3/26/the-data-science-venn-diagram):\n",
    "\n",
    "![](http://static1.squarespace.com/static/5150aec6e4b0e340ec52710a/t/51525c33e4b0b3e0d10f77ab/1364352052403/Data_Science_VD.png?format=200w)"
   ]
  },
  {
   "cell_type": "markdown",
   "metadata": {
    "nbpresent": {
     "id": "8e67b722-27dd-490a-88ca-c12e20d2cbb9"
    },
    "slideshow": {
     "slide_type": "notes"
    }
   },
   "source": [
    "Interdisciplinary aspects:\n",
    "\n",
    "1. **Hacker** reads and cleans data, develops workflows and (web-based) visualizations\n",
    "1. **Statistician** models and summarizes data\n",
    "1. **Expert** advances knowledge for a given domain"
   ]
  },
  {
   "cell_type": "markdown",
   "metadata": {
    "nbpresent": {
     "id": "cf9aadee-4d1a-4504-917b-c460e5b45e66"
    },
    "slideshow": {
     "slide_type": "slide"
    }
   },
   "source": [
    "## What is the Data Science Process?\n",
    "\n",
    "I also like Hadley Wickham's [R for Data Science](http://r4ds.had.co.nz/) iterative recipe for exploratory data analysis:\n",
    "\n",
    "![](http://r4ds.had.co.nz/diagrams/data-science-explore.png)"
   ]
  },
  {
   "cell_type": "markdown",
   "metadata": {
    "slideshow": {
     "slide_type": "notes"
    }
   },
   "source": [
    "- **Import**: read in simple text files, eg comma-seperated values (*.csv) [`csv`, `numpy`, `pandas`]\n",
    "- **Tidy**: normalize data into easily queryable formats (eg \"wide\" to \"long\") [`pandas`]\n",
    "- **Transform**: manipulate data based on subsetting by rows or columns, sorting and joining [`pandas`]\n",
    "- **Model**: develop statistical or algorithmic model to test scientific hypothesis [`scikit-learn`, `networkX`]\n",
    "- **Visualise**: static [`matplotlib`] or interactive [`bokeh`] plots\n",
    "- **Communicate**: online [Github, Jupyter Notebooks, markdown]"
   ]
  },
  {
   "cell_type": "markdown",
   "metadata": {
    "nbpresent": {
     "id": "bb255ad1-bc89-408e-a6fb-ff64fc30f74f"
    }
   },
   "source": [
    "## Launch Jupyter Notebook\n",
    "\n",
    "```bash\n",
    "# change directory to where you git cloned the course repo\n",
    "cd ~/github/ucsb-network-data-science-2016\n",
    "\n",
    "# launch jupyter notebook\n",
    "jupyter notebook\n",
    "```\n",
    "\n",
    "Create a new notebook. Insert Markdown above Code chunk."
   ]
  },
  {
   "cell_type": "raw",
   "metadata": {
    "slideshow": {
     "slide_type": "-"
    }
   },
   "source": [
    "1 + 1"
   ]
  }
 ],
 "metadata": {
  "anaconda-cloud": {},
  "kernelspec": {
   "display_name": "Python [Root]",
   "language": "python",
   "name": "Python [Root]"
  },
  "language_info": {
   "codemirror_mode": {
    "name": "ipython",
    "version": 3
   },
   "file_extension": ".py",
   "mimetype": "text/x-python",
   "name": "python",
   "nbconvert_exporter": "python",
   "pygments_lexer": "ipython3",
   "version": "3.5.2"
  },
  "nbpresent": {
   "slides": {
    "3c38957e-4130-4244-aa6d-95122917f751": {
     "id": "3c38957e-4130-4244-aa6d-95122917f751",
     "prev": "ba2ce635-351a-4bbd-8aed-46afd6c2d85e",
     "regions": {
      "ef50a427-e0a9-4bb7-ada0-18955d3c9a7b": {
       "attrs": {
        "height": 0.8,
        "width": 0.8,
        "x": 0.1,
        "y": 0.1
       },
       "content": {
        "cell": "bb255ad1-bc89-408e-a6fb-ff64fc30f74f",
        "part": "whole"
       },
       "id": "ef50a427-e0a9-4bb7-ada0-18955d3c9a7b"
      }
     }
    },
    "60d501ea-74eb-474d-890a-75c5071318dc": {
     "id": "60d501ea-74eb-474d-890a-75c5071318dc",
     "prev": "3c38957e-4130-4244-aa6d-95122917f751",
     "regions": {
      "d8fd497d-eecb-46a6-8e1f-e69312bf6197": {
       "attrs": {
        "height": 0.8,
        "width": 0.8,
        "x": 0.1,
        "y": 0.1
       },
       "content": {
        "cell": "a603c30f-a759-44eb-8648-4acb6c3c5734",
        "part": "whole"
       },
       "id": "d8fd497d-eecb-46a6-8e1f-e69312bf6197"
      }
     }
    },
    "ba2ce635-351a-4bbd-8aed-46afd6c2d85e": {
     "id": "ba2ce635-351a-4bbd-8aed-46afd6c2d85e",
     "prev": "f34bd4ca-6364-4a79-ab2d-5486bdfc3d38",
     "regions": {
      "4bcfabbc-2d8d-4750-bbe9-b0ab5dc512a9": {
       "attrs": {
        "height": 0.8,
        "width": 0.8,
        "x": 0.1,
        "y": 0.1
       },
       "content": {
        "cell": "cf9aadee-4d1a-4504-917b-c460e5b45e66",
        "part": "whole"
       },
       "id": "4bcfabbc-2d8d-4750-bbe9-b0ab5dc512a9"
      }
     }
    },
    "f34bd4ca-6364-4a79-ab2d-5486bdfc3d38": {
     "id": "f34bd4ca-6364-4a79-ab2d-5486bdfc3d38",
     "layout": "grid",
     "prev": null,
     "regions": {
      "e3b23d6a-93ec-4eef-b5ab-75c67d1bd93c": {
       "attrs": {
        "height": 0.8333333333333334,
        "pad": 0.01,
        "width": 0.8333333333333334,
        "x": 0.08333333333333333,
        "y": 0.08333333333333333
       },
       "content": {
        "cell": "647cb299-ff50-40e0-b04f-368b8748970f",
        "part": "whole"
       },
       "id": "e3b23d6a-93ec-4eef-b5ab-75c67d1bd93c"
      }
     }
    }
   },
   "themes": {
    "default": "2db1f9d0-3eea-46cf-b72f-4f27bef9653d",
    "theme": {
     "2db1f9d0-3eea-46cf-b72f-4f27bef9653d": {
      "id": "2db1f9d0-3eea-46cf-b72f-4f27bef9653d",
      "palette": {
       "19cc588f-0593-49c9-9f4b-e4d7cc113b1c": {
        "id": "19cc588f-0593-49c9-9f4b-e4d7cc113b1c",
        "rgb": [
         252,
         252,
         252
        ]
       },
       "31af15d2-7e15-44c5-ab5e-e04b16a89eff": {
        "id": "31af15d2-7e15-44c5-ab5e-e04b16a89eff",
        "rgb": [
         68,
         68,
         68
        ]
       },
       "50f92c45-a630-455b-aec3-788680ec7410": {
        "id": "50f92c45-a630-455b-aec3-788680ec7410",
        "rgb": [
         155,
         177,
         192
        ]
       },
       "c5cc3653-2ee1-402a-aba2-7caae1da4f6c": {
        "id": "c5cc3653-2ee1-402a-aba2-7caae1da4f6c",
        "rgb": [
         43,
         126,
         184
        ]
       },
       "efa7f048-9acb-414c-8b04-a26811511a21": {
        "id": "efa7f048-9acb-414c-8b04-a26811511a21",
        "rgb": [
         25.118061674008803,
         73.60176211453744,
         107.4819383259912
        ]
       }
      },
      "rules": {
       "blockquote": {
        "color": "50f92c45-a630-455b-aec3-788680ec7410"
       },
       "code": {
        "font-family": "Anonymous Pro"
       },
       "h1": {
        "color": "c5cc3653-2ee1-402a-aba2-7caae1da4f6c",
        "font-family": "Lato",
        "font-size": 8
       },
       "h2": {
        "color": "c5cc3653-2ee1-402a-aba2-7caae1da4f6c",
        "font-family": "Lato",
        "font-size": 6
       },
       "h3": {
        "color": "50f92c45-a630-455b-aec3-788680ec7410",
        "font-family": "Lato",
        "font-size": 5.5
       },
       "h4": {
        "color": "c5cc3653-2ee1-402a-aba2-7caae1da4f6c",
        "font-family": "Lato",
        "font-size": 5
       },
       "h5": {
        "font-family": "Lato"
       },
       "h6": {
        "font-family": "Lato"
       },
       "h7": {
        "font-family": "Lato"
       },
       "pre": {
        "font-family": "Anonymous Pro",
        "font-size": 4
       }
      },
      "text-base": {
       "font-family": "Merriweather",
       "font-size": 4
      }
     }
    }
   }
  }
 },
 "nbformat": 4,
 "nbformat_minor": 0
}
